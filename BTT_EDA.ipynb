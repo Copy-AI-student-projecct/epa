{
 "cells": [
  {
   "cell_type": "markdown",
   "id": "e73127a2-86ee-4ba0-bded-254597191840",
   "metadata": {},
   "source": [
    "this is the exploratory data analysis for the BTTAI Copy.AI project\n",
    "    in this notebook, i'll be looking at the EPA data through all the stuff there is to do"
   ]
  },
  {
   "cell_type": "code",
   "execution_count": 1,
   "id": "8d33a573-7d79-4384-bff9-17257b3b4d4f",
   "metadata": {},
   "outputs": [],
   "source": [
    "# import bs as needed\n",
    "import pandas as pd\n",
    "import numpy as np\n",
    "import os"
   ]
  },
  {
   "cell_type": "code",
   "execution_count": 2,
   "id": "67c41251-8aa3-4d88-825a-6b58fc9bbe2b",
   "metadata": {},
   "outputs": [
    {
     "data": {
      "text/html": [
       "<div>\n",
       "<style scoped>\n",
       "    .dataframe tbody tr th:only-of-type {\n",
       "        vertical-align: middle;\n",
       "    }\n",
       "\n",
       "    .dataframe tbody tr th {\n",
       "        vertical-align: top;\n",
       "    }\n",
       "\n",
       "    .dataframe thead th {\n",
       "        text-align: right;\n",
       "    }\n",
       "</style>\n",
       "<table border=\"1\" class=\"dataframe\">\n",
       "  <thead>\n",
       "    <tr style=\"text-align: right;\">\n",
       "      <th></th>\n",
       "      <th>CBSA</th>\n",
       "      <th>CBSA Code</th>\n",
       "      <th>Date</th>\n",
       "      <th>AQI</th>\n",
       "      <th>Category</th>\n",
       "      <th>Defining Parameter</th>\n",
       "      <th>Defining Site</th>\n",
       "      <th>Number of Sites Reporting</th>\n",
       "    </tr>\n",
       "  </thead>\n",
       "  <tbody>\n",
       "    <tr>\n",
       "      <th>0</th>\n",
       "      <td>Aberdeen, SD</td>\n",
       "      <td>10100</td>\n",
       "      <td>2023-01-01</td>\n",
       "      <td>33</td>\n",
       "      <td>Good</td>\n",
       "      <td>PM2.5</td>\n",
       "      <td>46-013-0004</td>\n",
       "      <td>1</td>\n",
       "    </tr>\n",
       "    <tr>\n",
       "      <th>1</th>\n",
       "      <td>Aberdeen, SD</td>\n",
       "      <td>10100</td>\n",
       "      <td>2023-01-02</td>\n",
       "      <td>56</td>\n",
       "      <td>Moderate</td>\n",
       "      <td>PM2.5</td>\n",
       "      <td>46-013-0004</td>\n",
       "      <td>1</td>\n",
       "    </tr>\n",
       "    <tr>\n",
       "      <th>2</th>\n",
       "      <td>Aberdeen, SD</td>\n",
       "      <td>10100</td>\n",
       "      <td>2023-01-03</td>\n",
       "      <td>34</td>\n",
       "      <td>Good</td>\n",
       "      <td>PM2.5</td>\n",
       "      <td>46-013-0004</td>\n",
       "      <td>1</td>\n",
       "    </tr>\n",
       "    <tr>\n",
       "      <th>3</th>\n",
       "      <td>Aberdeen, SD</td>\n",
       "      <td>10100</td>\n",
       "      <td>2023-01-04</td>\n",
       "      <td>10</td>\n",
       "      <td>Good</td>\n",
       "      <td>PM2.5</td>\n",
       "      <td>46-013-0004</td>\n",
       "      <td>1</td>\n",
       "    </tr>\n",
       "    <tr>\n",
       "      <th>4</th>\n",
       "      <td>Aberdeen, SD</td>\n",
       "      <td>10100</td>\n",
       "      <td>2023-01-05</td>\n",
       "      <td>51</td>\n",
       "      <td>Moderate</td>\n",
       "      <td>PM2.5</td>\n",
       "      <td>46-013-0004</td>\n",
       "      <td>1</td>\n",
       "    </tr>\n",
       "  </tbody>\n",
       "</table>\n",
       "</div>"
      ],
      "text/plain": [
       "           CBSA  CBSA Code        Date  AQI  Category Defining Parameter  \\\n",
       "0  Aberdeen, SD      10100  2023-01-01   33      Good              PM2.5   \n",
       "1  Aberdeen, SD      10100  2023-01-02   56  Moderate              PM2.5   \n",
       "2  Aberdeen, SD      10100  2023-01-03   34      Good              PM2.5   \n",
       "3  Aberdeen, SD      10100  2023-01-04   10      Good              PM2.5   \n",
       "4  Aberdeen, SD      10100  2023-01-05   51  Moderate              PM2.5   \n",
       "\n",
       "  Defining Site  Number of Sites Reporting  \n",
       "0   46-013-0004                          1  \n",
       "1   46-013-0004                          1  \n",
       "2   46-013-0004                          1  \n",
       "3   46-013-0004                          1  \n",
       "4   46-013-0004                          1  "
      ]
     },
     "execution_count": 2,
     "metadata": {},
     "output_type": "execute_result"
    }
   ],
   "source": [
    "# begin by loading a csv\n",
    "    # start maybe with the daily aqi by cbsa 2024, just to get this working\n",
    "# df = pd.read_csv(\"/data/aqi/daily_aqi_by_cbsa_2023.csv\", header=0)\n",
    "df = pd.read_csv(os.path.join(os.getcwd(), \"data\", \"aqi\", \"daily_aqi_by_cbsa_2023.csv\"), header=0)\n",
    "df.head()"
   ]
  },
  {
   "cell_type": "code",
   "execution_count": 3,
   "id": "18958281-102b-4e8d-a4bd-7cc45cef5692",
   "metadata": {},
   "outputs": [
    {
     "data": {
      "text/html": [
       "<div>\n",
       "<style scoped>\n",
       "    .dataframe tbody tr th:only-of-type {\n",
       "        vertical-align: middle;\n",
       "    }\n",
       "\n",
       "    .dataframe tbody tr th {\n",
       "        vertical-align: top;\n",
       "    }\n",
       "\n",
       "    .dataframe thead th {\n",
       "        text-align: right;\n",
       "    }\n",
       "</style>\n",
       "<table border=\"1\" class=\"dataframe\">\n",
       "  <thead>\n",
       "    <tr style=\"text-align: right;\">\n",
       "      <th></th>\n",
       "      <th>CBSA</th>\n",
       "      <th>CBSA Code</th>\n",
       "      <th>Date</th>\n",
       "      <th>AQI</th>\n",
       "      <th>Category</th>\n",
       "      <th>Defining Parameter</th>\n",
       "      <th>Defining Site</th>\n",
       "      <th>Number of Sites Reporting</th>\n",
       "    </tr>\n",
       "  </thead>\n",
       "  <tbody>\n",
       "    <tr>\n",
       "      <th>107643</th>\n",
       "      <td>New York-Newark-Jersey City, NY-NJ-PA</td>\n",
       "      <td>35620</td>\n",
       "      <td>2023-01-01</td>\n",
       "      <td>57</td>\n",
       "      <td>Moderate</td>\n",
       "      <td>PM2.5</td>\n",
       "      <td>36-059-0005</td>\n",
       "      <td>33</td>\n",
       "    </tr>\n",
       "    <tr>\n",
       "      <th>107644</th>\n",
       "      <td>New York-Newark-Jersey City, NY-NJ-PA</td>\n",
       "      <td>35620</td>\n",
       "      <td>2023-01-02</td>\n",
       "      <td>62</td>\n",
       "      <td>Moderate</td>\n",
       "      <td>PM2.5</td>\n",
       "      <td>36-103-0009</td>\n",
       "      <td>33</td>\n",
       "    </tr>\n",
       "    <tr>\n",
       "      <th>107645</th>\n",
       "      <td>New York-Newark-Jersey City, NY-NJ-PA</td>\n",
       "      <td>35620</td>\n",
       "      <td>2023-01-03</td>\n",
       "      <td>78</td>\n",
       "      <td>Moderate</td>\n",
       "      <td>PM2.5</td>\n",
       "      <td>36-081-0124</td>\n",
       "      <td>36</td>\n",
       "    </tr>\n",
       "    <tr>\n",
       "      <th>107646</th>\n",
       "      <td>New York-Newark-Jersey City, NY-NJ-PA</td>\n",
       "      <td>35620</td>\n",
       "      <td>2023-01-04</td>\n",
       "      <td>70</td>\n",
       "      <td>Moderate</td>\n",
       "      <td>PM2.5</td>\n",
       "      <td>36-081-0124</td>\n",
       "      <td>33</td>\n",
       "    </tr>\n",
       "    <tr>\n",
       "      <th>107647</th>\n",
       "      <td>New York-Newark-Jersey City, NY-NJ-PA</td>\n",
       "      <td>35620</td>\n",
       "      <td>2023-01-05</td>\n",
       "      <td>64</td>\n",
       "      <td>Moderate</td>\n",
       "      <td>PM2.5</td>\n",
       "      <td>34-039-0004</td>\n",
       "      <td>32</td>\n",
       "    </tr>\n",
       "    <tr>\n",
       "      <th>107648</th>\n",
       "      <td>New York-Newark-Jersey City, NY-NJ-PA</td>\n",
       "      <td>35620</td>\n",
       "      <td>2023-01-06</td>\n",
       "      <td>58</td>\n",
       "      <td>Moderate</td>\n",
       "      <td>PM2.5</td>\n",
       "      <td>36-061-0115</td>\n",
       "      <td>36</td>\n",
       "    </tr>\n",
       "    <tr>\n",
       "      <th>107649</th>\n",
       "      <td>New York-Newark-Jersey City, NY-NJ-PA</td>\n",
       "      <td>35620</td>\n",
       "      <td>2023-01-07</td>\n",
       "      <td>53</td>\n",
       "      <td>Moderate</td>\n",
       "      <td>PM2.5</td>\n",
       "      <td>36-061-0115</td>\n",
       "      <td>33</td>\n",
       "    </tr>\n",
       "    <tr>\n",
       "      <th>107650</th>\n",
       "      <td>New York-Newark-Jersey City, NY-NJ-PA</td>\n",
       "      <td>35620</td>\n",
       "      <td>2023-01-08</td>\n",
       "      <td>54</td>\n",
       "      <td>Moderate</td>\n",
       "      <td>PM2.5</td>\n",
       "      <td>36-103-0009</td>\n",
       "      <td>31</td>\n",
       "    </tr>\n",
       "    <tr>\n",
       "      <th>107651</th>\n",
       "      <td>New York-Newark-Jersey City, NY-NJ-PA</td>\n",
       "      <td>35620</td>\n",
       "      <td>2023-01-09</td>\n",
       "      <td>59</td>\n",
       "      <td>Moderate</td>\n",
       "      <td>PM2.5</td>\n",
       "      <td>36-061-0115</td>\n",
       "      <td>35</td>\n",
       "    </tr>\n",
       "    <tr>\n",
       "      <th>107652</th>\n",
       "      <td>New York-Newark-Jersey City, NY-NJ-PA</td>\n",
       "      <td>35620</td>\n",
       "      <td>2023-01-10</td>\n",
       "      <td>60</td>\n",
       "      <td>Moderate</td>\n",
       "      <td>PM2.5</td>\n",
       "      <td>34-029-2002</td>\n",
       "      <td>32</td>\n",
       "    </tr>\n",
       "  </tbody>\n",
       "</table>\n",
       "</div>"
      ],
      "text/plain": [
       "                                         CBSA  CBSA Code        Date  AQI  \\\n",
       "107643  New York-Newark-Jersey City, NY-NJ-PA      35620  2023-01-01   57   \n",
       "107644  New York-Newark-Jersey City, NY-NJ-PA      35620  2023-01-02   62   \n",
       "107645  New York-Newark-Jersey City, NY-NJ-PA      35620  2023-01-03   78   \n",
       "107646  New York-Newark-Jersey City, NY-NJ-PA      35620  2023-01-04   70   \n",
       "107647  New York-Newark-Jersey City, NY-NJ-PA      35620  2023-01-05   64   \n",
       "107648  New York-Newark-Jersey City, NY-NJ-PA      35620  2023-01-06   58   \n",
       "107649  New York-Newark-Jersey City, NY-NJ-PA      35620  2023-01-07   53   \n",
       "107650  New York-Newark-Jersey City, NY-NJ-PA      35620  2023-01-08   54   \n",
       "107651  New York-Newark-Jersey City, NY-NJ-PA      35620  2023-01-09   59   \n",
       "107652  New York-Newark-Jersey City, NY-NJ-PA      35620  2023-01-10   60   \n",
       "\n",
       "        Category Defining Parameter Defining Site  Number of Sites Reporting  \n",
       "107643  Moderate              PM2.5   36-059-0005                         33  \n",
       "107644  Moderate              PM2.5   36-103-0009                         33  \n",
       "107645  Moderate              PM2.5   36-081-0124                         36  \n",
       "107646  Moderate              PM2.5   36-081-0124                         33  \n",
       "107647  Moderate              PM2.5   34-039-0004                         32  \n",
       "107648  Moderate              PM2.5   36-061-0115                         36  \n",
       "107649  Moderate              PM2.5   36-061-0115                         33  \n",
       "107650  Moderate              PM2.5   36-103-0009                         31  \n",
       "107651  Moderate              PM2.5   36-061-0115                         35  \n",
       "107652  Moderate              PM2.5   34-029-2002                         32  "
      ]
     },
     "execution_count": 3,
     "metadata": {},
     "output_type": "execute_result"
    }
   ],
   "source": [
    "# yippie! it worked\n",
    "# now let's find a way to trim this down to just the NYC stuff\n",
    "df_nyc = df.loc[df['CBSA'] == 'New York-Newark-Jersey City, NY-NJ-PA']\n",
    "df_nyc.head(10)\n",
    "\n",
    "# now there's a file with AQI for NYC for all of 2024 so far\n",
    "    # let's do the same for other types of data"
   ]
  },
  {
   "cell_type": "code",
   "execution_count": 4,
   "id": "c746ecfa-1366-4d15-b647-c42a517fb9c5",
   "metadata": {},
   "outputs": [],
   "source": [
    "# this is the wind one, can then do the same things for temp, pressure, etc\n",
    "    # the files all have the headers and general format\n",
    "        # most of this isn't useful for us. the main thing is the 'arithmetic mean' column and date\n",
    "            # once it's been cut down to just that, it can be merged with the others into one big (well-labled!) df\n",
    "    # the unit is in there somewhere, but it should be consistent\n",
    "        # might be good to normalize the values at some point\n",
    "\n",
    "# df_wind = pd.read_csv(os.path.join(os.getcwd(), \"data\", \"meteorological\", \"daily_WIND_2023.csv\"), header=0)\n",
    "# df_wind.head()\n",
    "# # get the CBSA name to narrow it down to the NYC ones\n",
    "# df_wind_nyc = df_wind.loc[df_wind['CBSA Name'] == 'New York-Newark-Jersey City, NY-NJ-PA']\n",
    "# df_wind_nyc.head(10)"
   ]
  },
  {
   "cell_type": "code",
   "execution_count": 5,
   "id": "2151eedc-5b48-4e03-8251-a2b04d13f5e6",
   "metadata": {},
   "outputs": [],
   "source": [
    "# ok so that's that! now there's a general idea for what to do, which is:\n",
    "# download all these files down to 2019\n",
    "    # have currently skipped 2024 because it's incomplete\n",
    "# trim them to just the nyc stuff\n",
    "# trim everything except parameter name, date local, arithmetic mean, state name, county name, CBSA name\n",
    "    # keep all the location stuff for merging\n",
    "    # can safely get rid of:\n",
    "        # state code, county code, site number, parameter code, POC, latitude, longitude, datum, sample duration,\n",
    "        # pollutant standard, units?, event type, observation count, observation percent, 1st max value, 1st max hour,\n",
    "        # AQI (usually empty anyway), method code, method name, local site name, address, date of last change\n",
    "            # don't need city name, will merge on county and call it a day\n",
    "            # units can just be looked up\n",
    "# split into separate dfs for the separate parameters\n",
    "    # some of these have various measurements in one file\n",
    "# relabel 'arithmetic mean' to be more descriptive\n",
    "    # should be the parameter name, once split\n",
    "# merge all of them based on...\n",
    "    # location?\n",
    "        # maybe start with county name, get all the stuff from one city in one place\n",
    "        # then maybe merge it more as needed, if the cities are sufficiently close\n",
    "            # might end up discarding the non-queens stuff?\n",
    "            # once there's multiple values for one date for one type of data, will have to average them in some way\n",
    "                # they can't just be merged away since the CBSA/col will be the same but the data will be different\n",
    "            # not sure how to go about this, but for later\n",
    "     # date local?\n",
    "        # this would merge various locations all into one, may or may not be what's intended\n",
    "# once it's all one big file with all the possibly necessary data that the EPA could give for every year 2019-23, we're good"
   ]
  },
  {
   "cell_type": "code",
   "execution_count": 21,
   "id": "be2257ea-2ed5-48f7-90b8-285faee931b3",
   "metadata": {},
   "outputs": [],
   "source": [
    "def process_file(filename):\n",
    "    # access file\n",
    "    df_new = pd.read_csv(filename, header=0)\n",
    "\n",
    "    # for some reason, aqi has a different name for the column\n",
    "    col_name = ''\n",
    "    if 'aqi' in filename:\n",
    "        col_name = 'CBSA'\n",
    "    else:\n",
    "        col_name = 'CBSA Name'\n",
    "    \n",
    "    # trim rows to just nyc\n",
    "        # only rows with a \"CBSA Name\" of \"New York-Newark-Jersey City, NY-NJ-PA\"\n",
    "    df_new_nyc = df_new.loc[df_new[col_name] == 'New York-Newark-Jersey City, NY-NJ-PA']\n",
    "    #print(df_new_nyc.head())\n",
    "\n",
    "    # trim columns to just useful\n",
    "    # again, aqi is different\n",
    "    if 'aqi' in filename:\n",
    "        df_new_nyc = df_new_nyc.drop(['CBSA', 'CBSA Code', 'Defining Site', 'Number of Sites Reporting', 'Defining Parameter'], axis = 1)\n",
    "    else:\n",
    "        # trim everything except parameter name, date local, arithmetic mean, state name, county name, ~~city name~~, CBSA name\n",
    "        df_new_nyc.drop(df_new_nyc.columns.difference(['Parameter Name','Date Local', 'Arithmetic Mean', 'County Name']), \\\n",
    "                        axis = 1, inplace = True)\n",
    "        df_new_nyc = df_new_nyc.rename(columns={'Date Local': 'Date'})\n",
    "        df_new_nyc = df_new_nyc.rename(columns={'Arithmetic Mean': df_new_nyc.iloc[1,0]})\n",
    "        df_new_nyc = df_new_nyc.drop(columns = 'Parameter Name')\n",
    "    \n",
    "    # return the final df\n",
    "    return df_new_nyc"
   ]
  },
  {
   "cell_type": "code",
   "execution_count": 24,
   "id": "606d24d6-f63f-4264-9744-0ada6371cce5",
   "metadata": {},
   "outputs": [],
   "source": [
    "# take in the folder (\"aqi\") and base file name (\"aqi_by_cbsa\")\n",
    "def process_file_set(folder, base_filename):\n",
    "    whole_file_df = pd.DataFrame()\n",
    "    # loop through all the years i have files for\n",
    "    for i in range(2019, 2024):\n",
    "        # append the year to the end of the filename, then call process_file\n",
    "        filename = \"daily_\" + base_filename + \"_\" + str(i) + \".csv\"\n",
    "\n",
    "        filename = os.path.join(os.getcwd(), \"data\", folder, filename)\n",
    "\n",
    "        print(filename)\n",
    "        df = process_file(filename) # have this be equal to something\n",
    "\n",
    "        # once the thing was returned, start to merge it with the a big one for this folder\n",
    "        whole_file_df = pd.concat([whole_file_df, df])\n",
    "        #print(whole_file_df.head())\n",
    "    # return the folder one\n",
    "    return whole_file_df"
   ]
  },
  {
   "cell_type": "code",
   "execution_count": 25,
   "id": "22bbd378-7b6b-4c31-8c56-efb898751cea",
   "metadata": {},
   "outputs": [
    {
     "name": "stdout",
     "output_type": "stream",
     "text": [
      "/Users/soarderius/epa/data/aqi/daily_aqi_by_cbsa_2019.csv\n",
      "/Users/soarderius/epa/data/aqi/daily_aqi_by_cbsa_2020.csv\n",
      "/Users/soarderius/epa/data/aqi/daily_aqi_by_cbsa_2021.csv\n",
      "/Users/soarderius/epa/data/aqi/daily_aqi_by_cbsa_2022.csv\n",
      "/Users/soarderius/epa/data/aqi/daily_aqi_by_cbsa_2023.csv\n",
      "/Users/soarderius/epa/data/criteria_gases/daily_42101_2019.csv\n"
     ]
    },
    {
     "name": "stderr",
     "output_type": "stream",
     "text": [
      "/var/folders/v4/zyvy1vmn39ddql58q2r98k8h0000gn/T/ipykernel_89514/272343036.py:3: DtypeWarning: Columns (13) have mixed types. Specify dtype option on import or set low_memory=False.\n",
      "  df_new = pd.read_csv(filename, header=0)\n",
      "/var/folders/v4/zyvy1vmn39ddql58q2r98k8h0000gn/T/ipykernel_89514/272343036.py:23: SettingWithCopyWarning: \n",
      "A value is trying to be set on a copy of a slice from a DataFrame\n",
      "\n",
      "See the caveats in the documentation: https://pandas.pydata.org/pandas-docs/stable/user_guide/indexing.html#returning-a-view-versus-a-copy\n",
      "  df_new_nyc.drop(df_new_nyc.columns.difference(['Parameter Name','Date Local', 'Arithmetic Mean', 'County Name']), \\\n"
     ]
    },
    {
     "name": "stdout",
     "output_type": "stream",
     "text": [
      "/Users/soarderius/epa/data/criteria_gases/daily_42101_2020.csv\n"
     ]
    },
    {
     "name": "stderr",
     "output_type": "stream",
     "text": [
      "/var/folders/v4/zyvy1vmn39ddql58q2r98k8h0000gn/T/ipykernel_89514/272343036.py:3: DtypeWarning: Columns (13) have mixed types. Specify dtype option on import or set low_memory=False.\n",
      "  df_new = pd.read_csv(filename, header=0)\n",
      "/var/folders/v4/zyvy1vmn39ddql58q2r98k8h0000gn/T/ipykernel_89514/272343036.py:23: SettingWithCopyWarning: \n",
      "A value is trying to be set on a copy of a slice from a DataFrame\n",
      "\n",
      "See the caveats in the documentation: https://pandas.pydata.org/pandas-docs/stable/user_guide/indexing.html#returning-a-view-versus-a-copy\n",
      "  df_new_nyc.drop(df_new_nyc.columns.difference(['Parameter Name','Date Local', 'Arithmetic Mean', 'County Name']), \\\n"
     ]
    },
    {
     "name": "stdout",
     "output_type": "stream",
     "text": [
      "/Users/soarderius/epa/data/criteria_gases/daily_42101_2021.csv\n"
     ]
    },
    {
     "name": "stderr",
     "output_type": "stream",
     "text": [
      "/var/folders/v4/zyvy1vmn39ddql58q2r98k8h0000gn/T/ipykernel_89514/272343036.py:3: DtypeWarning: Columns (13) have mixed types. Specify dtype option on import or set low_memory=False.\n",
      "  df_new = pd.read_csv(filename, header=0)\n",
      "/var/folders/v4/zyvy1vmn39ddql58q2r98k8h0000gn/T/ipykernel_89514/272343036.py:23: SettingWithCopyWarning: \n",
      "A value is trying to be set on a copy of a slice from a DataFrame\n",
      "\n",
      "See the caveats in the documentation: https://pandas.pydata.org/pandas-docs/stable/user_guide/indexing.html#returning-a-view-versus-a-copy\n",
      "  df_new_nyc.drop(df_new_nyc.columns.difference(['Parameter Name','Date Local', 'Arithmetic Mean', 'County Name']), \\\n"
     ]
    },
    {
     "name": "stdout",
     "output_type": "stream",
     "text": [
      "/Users/soarderius/epa/data/criteria_gases/daily_42101_2022.csv\n"
     ]
    },
    {
     "name": "stderr",
     "output_type": "stream",
     "text": [
      "/var/folders/v4/zyvy1vmn39ddql58q2r98k8h0000gn/T/ipykernel_89514/272343036.py:3: DtypeWarning: Columns (13) have mixed types. Specify dtype option on import or set low_memory=False.\n",
      "  df_new = pd.read_csv(filename, header=0)\n",
      "/var/folders/v4/zyvy1vmn39ddql58q2r98k8h0000gn/T/ipykernel_89514/272343036.py:23: SettingWithCopyWarning: \n",
      "A value is trying to be set on a copy of a slice from a DataFrame\n",
      "\n",
      "See the caveats in the documentation: https://pandas.pydata.org/pandas-docs/stable/user_guide/indexing.html#returning-a-view-versus-a-copy\n",
      "  df_new_nyc.drop(df_new_nyc.columns.difference(['Parameter Name','Date Local', 'Arithmetic Mean', 'County Name']), \\\n"
     ]
    },
    {
     "name": "stdout",
     "output_type": "stream",
     "text": [
      "/Users/soarderius/epa/data/criteria_gases/daily_42101_2023.csv\n"
     ]
    },
    {
     "name": "stderr",
     "output_type": "stream",
     "text": [
      "/var/folders/v4/zyvy1vmn39ddql58q2r98k8h0000gn/T/ipykernel_89514/272343036.py:3: DtypeWarning: Columns (13) have mixed types. Specify dtype option on import or set low_memory=False.\n",
      "  df_new = pd.read_csv(filename, header=0)\n",
      "/var/folders/v4/zyvy1vmn39ddql58q2r98k8h0000gn/T/ipykernel_89514/272343036.py:23: SettingWithCopyWarning: \n",
      "A value is trying to be set on a copy of a slice from a DataFrame\n",
      "\n",
      "See the caveats in the documentation: https://pandas.pydata.org/pandas-docs/stable/user_guide/indexing.html#returning-a-view-versus-a-copy\n",
      "  df_new_nyc.drop(df_new_nyc.columns.difference(['Parameter Name','Date Local', 'Arithmetic Mean', 'County Name']), \\\n"
     ]
    },
    {
     "name": "stdout",
     "output_type": "stream",
     "text": [
      "/Users/soarderius/epa/data/criteria_gases/daily_42401_2019.csv\n"
     ]
    },
    {
     "name": "stderr",
     "output_type": "stream",
     "text": [
      "/var/folders/v4/zyvy1vmn39ddql58q2r98k8h0000gn/T/ipykernel_89514/272343036.py:3: DtypeWarning: Columns (13) have mixed types. Specify dtype option on import or set low_memory=False.\n",
      "  df_new = pd.read_csv(filename, header=0)\n",
      "/var/folders/v4/zyvy1vmn39ddql58q2r98k8h0000gn/T/ipykernel_89514/272343036.py:23: SettingWithCopyWarning: \n",
      "A value is trying to be set on a copy of a slice from a DataFrame\n",
      "\n",
      "See the caveats in the documentation: https://pandas.pydata.org/pandas-docs/stable/user_guide/indexing.html#returning-a-view-versus-a-copy\n",
      "  df_new_nyc.drop(df_new_nyc.columns.difference(['Parameter Name','Date Local', 'Arithmetic Mean', 'County Name']), \\\n"
     ]
    },
    {
     "name": "stdout",
     "output_type": "stream",
     "text": [
      "/Users/soarderius/epa/data/criteria_gases/daily_42401_2020.csv\n"
     ]
    },
    {
     "name": "stderr",
     "output_type": "stream",
     "text": [
      "/var/folders/v4/zyvy1vmn39ddql58q2r98k8h0000gn/T/ipykernel_89514/272343036.py:3: DtypeWarning: Columns (13) have mixed types. Specify dtype option on import or set low_memory=False.\n",
      "  df_new = pd.read_csv(filename, header=0)\n",
      "/var/folders/v4/zyvy1vmn39ddql58q2r98k8h0000gn/T/ipykernel_89514/272343036.py:23: SettingWithCopyWarning: \n",
      "A value is trying to be set on a copy of a slice from a DataFrame\n",
      "\n",
      "See the caveats in the documentation: https://pandas.pydata.org/pandas-docs/stable/user_guide/indexing.html#returning-a-view-versus-a-copy\n",
      "  df_new_nyc.drop(df_new_nyc.columns.difference(['Parameter Name','Date Local', 'Arithmetic Mean', 'County Name']), \\\n"
     ]
    },
    {
     "name": "stdout",
     "output_type": "stream",
     "text": [
      "/Users/soarderius/epa/data/criteria_gases/daily_42401_2021.csv\n"
     ]
    },
    {
     "name": "stderr",
     "output_type": "stream",
     "text": [
      "/var/folders/v4/zyvy1vmn39ddql58q2r98k8h0000gn/T/ipykernel_89514/272343036.py:3: DtypeWarning: Columns (13) have mixed types. Specify dtype option on import or set low_memory=False.\n",
      "  df_new = pd.read_csv(filename, header=0)\n",
      "/var/folders/v4/zyvy1vmn39ddql58q2r98k8h0000gn/T/ipykernel_89514/272343036.py:23: SettingWithCopyWarning: \n",
      "A value is trying to be set on a copy of a slice from a DataFrame\n",
      "\n",
      "See the caveats in the documentation: https://pandas.pydata.org/pandas-docs/stable/user_guide/indexing.html#returning-a-view-versus-a-copy\n",
      "  df_new_nyc.drop(df_new_nyc.columns.difference(['Parameter Name','Date Local', 'Arithmetic Mean', 'County Name']), \\\n"
     ]
    },
    {
     "name": "stdout",
     "output_type": "stream",
     "text": [
      "/Users/soarderius/epa/data/criteria_gases/daily_42401_2022.csv\n"
     ]
    },
    {
     "name": "stderr",
     "output_type": "stream",
     "text": [
      "/var/folders/v4/zyvy1vmn39ddql58q2r98k8h0000gn/T/ipykernel_89514/272343036.py:3: DtypeWarning: Columns (13) have mixed types. Specify dtype option on import or set low_memory=False.\n",
      "  df_new = pd.read_csv(filename, header=0)\n",
      "/var/folders/v4/zyvy1vmn39ddql58q2r98k8h0000gn/T/ipykernel_89514/272343036.py:23: SettingWithCopyWarning: \n",
      "A value is trying to be set on a copy of a slice from a DataFrame\n",
      "\n",
      "See the caveats in the documentation: https://pandas.pydata.org/pandas-docs/stable/user_guide/indexing.html#returning-a-view-versus-a-copy\n",
      "  df_new_nyc.drop(df_new_nyc.columns.difference(['Parameter Name','Date Local', 'Arithmetic Mean', 'County Name']), \\\n"
     ]
    },
    {
     "name": "stdout",
     "output_type": "stream",
     "text": [
      "/Users/soarderius/epa/data/criteria_gases/daily_42401_2023.csv\n"
     ]
    },
    {
     "name": "stderr",
     "output_type": "stream",
     "text": [
      "/var/folders/v4/zyvy1vmn39ddql58q2r98k8h0000gn/T/ipykernel_89514/272343036.py:3: DtypeWarning: Columns (13) have mixed types. Specify dtype option on import or set low_memory=False.\n",
      "  df_new = pd.read_csv(filename, header=0)\n",
      "/var/folders/v4/zyvy1vmn39ddql58q2r98k8h0000gn/T/ipykernel_89514/272343036.py:23: SettingWithCopyWarning: \n",
      "A value is trying to be set on a copy of a slice from a DataFrame\n",
      "\n",
      "See the caveats in the documentation: https://pandas.pydata.org/pandas-docs/stable/user_guide/indexing.html#returning-a-view-versus-a-copy\n",
      "  df_new_nyc.drop(df_new_nyc.columns.difference(['Parameter Name','Date Local', 'Arithmetic Mean', 'County Name']), \\\n"
     ]
    }
   ],
   "source": [
    "# start making a function to do all of the stuff for each file\n",
    "df_full = pd.DataFrame()\n",
    "\n",
    "# do all of these then merge into the big big one\n",
    "aqi = process_file_set('aqi', 'aqi_by_cbsa')\n",
    "carbon = process_file_set('criteria_gases', '42101')\n",
    "carbon2 = process_file_set('criteria_gases', '42401')\n",
    "\n",
    "new_big_file_df = pd.merge(aqi, carbon, how='outer', on='Date')\n",
    "new_big_file_df = pd.merge(new_big_file_df, carbon2, how='outer', on=['Date', 'County Name'])\n",
    "new_big_file_df = new_big_file_df.drop_duplicates(subset=['Date', 'County Name'])\n",
    "new_big_file_df.to_csv('please_work_fr.csv', sep=',', index=False, encoding='utf-8')"
   ]
  },
  {
   "cell_type": "code",
   "execution_count": null,
   "id": "55533d4c-2b89-437c-903d-33b924c7de67",
   "metadata": {},
   "outputs": [],
   "source": []
  }
 ],
 "metadata": {
  "kernelspec": {
   "display_name": "Python 3 (ipykernel)",
   "language": "python",
   "name": "python3"
  },
  "language_info": {
   "codemirror_mode": {
    "name": "ipython",
    "version": 3
   },
   "file_extension": ".py",
   "mimetype": "text/x-python",
   "name": "python",
   "nbconvert_exporter": "python",
   "pygments_lexer": "ipython3",
   "version": "3.12.4"
  }
 },
 "nbformat": 4,
 "nbformat_minor": 5
}
